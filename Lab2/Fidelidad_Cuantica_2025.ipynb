{
 "cells": [
  {
   "cell_type": "code",
   "execution_count": 41,
   "id": "364c80db",
   "metadata": {},
   "outputs": [],
   "source": [
    "from qiskit import QuantumCircuit\n",
    "from qiskit.quantum_info import SparsePauliOp\n",
    "from qiskit.primitives import StatevectorEstimator\n",
    "from qiskit.transpiler import generate_preset_pass_manager"
   ]
  },
  {
   "cell_type": "code",
   "execution_count": 42,
   "id": "8015f0e7",
   "metadata": {},
   "outputs": [],
   "source": [
    "pm = generate_preset_pass_manager(optimization_level=1)\n",
    "estimator = StatevectorEstimator()"
   ]
  },
  {
   "cell_type": "code",
   "execution_count": 43,
   "id": "50363cd7",
   "metadata": {},
   "outputs": [
    {
     "data": {
      "text/plain": [
       "<qiskit.circuit.instructionset.InstructionSet at 0x1eafbac6d10>"
      ]
     },
     "execution_count": 43,
     "metadata": {},
     "output_type": "execute_result"
    }
   ],
   "source": [
    "# Ejemplo 1: Fidelidad entre |+> y |0>\n",
    "qc1 = QuantumCircuit(1)\n",
    "qc1.h(0) # Definición del estado cuántico |+>"
   ]
  },
  {
   "cell_type": "code",
   "execution_count": 44,
   "id": "fe3374ff",
   "metadata": {},
   "outputs": [
    {
     "ename": "IndentationError",
     "evalue": "unexpected indent (3111515292.py, line 1)",
     "output_type": "error",
     "traceback": [
      "  \u001b[36mCell\u001b[39m\u001b[36m \u001b[39m\u001b[32mIn[44]\u001b[39m\u001b[32m, line 1\u001b[39m\n\u001b[31m    \u001b[39m\u001b[31mObservable para medir fidelidad con respecto al estado |0⟩: Π₀ = (I + Z)/2\u001b[39m\n    ^\n\u001b[31mIndentationError\u001b[39m\u001b[31m:\u001b[39m unexpected indent\n"
     ]
    }
   ],
   "source": [
    " Observable para medir fidelidad con respecto al estado |0⟩: Π₀ = (I + Z)/2\n",
    "observable1 = 0.5 * (SparsePauliOp(\"I\") + SparsePauliOp(\"Z\"))\n",
    "print(observable1)"
   ]
  },
  {
   "cell_type": "code",
   "execution_count": null,
   "id": "18859073",
   "metadata": {},
   "outputs": [
    {
     "name": "stdout",
     "output_type": "stream",
     "text": [
      "SparsePauliOp(['I', 'Z'],\n",
      "              coeffs=[0.5+0.j, 0.5+0.j])\n"
     ]
    }
   ],
   "source": [
    "from itertools import product\n",
    "n=1\n",
    "# Generar todas las combinaciones de Pauli 'I' y 'Z' para n qubits\n",
    "pauli_strings = [''.join(p) for p in product('IZ', repeat=n)]\n",
    "observable1 = SparsePauliOp.from_list([(p, 1.0) for p in pauli_strings]) * (1 / (2**n))\n",
    "print(observable1)"
   ]
  },
  {
   "cell_type": "code",
   "execution_count": null,
   "id": "14ebd33e",
   "metadata": {},
   "outputs": [
    {
     "name": "stdout",
     "output_type": "stream",
     "text": [
      "SparsePauliOp(['I', 'Z'],\n",
      "              coeffs=[0.5+0.j, 0.5+0.j])\n"
     ]
    }
   ],
   "source": [
    "isa_circuit1 = pm.run(qc1)\n",
    "isa_observable1 = observable1.apply_layout(isa_circuit1.layout)\n",
    "print(observable1)"
   ]
  },
  {
   "cell_type": "code",
   "execution_count": null,
   "id": "cf12a0e1",
   "metadata": {},
   "outputs": [
    {
     "name": "stdout",
     "output_type": "stream",
     "text": [
      "Ejemplo 1: Fidelidad entre |+> y |0⟩ = 0.4999999999999999\n"
     ]
    }
   ],
   "source": [
    "job1 = estimator.run([(isa_circuit1, isa_observable1)])\n",
    "result1 = job1.result()\n",
    "\n",
    "fidelidad1 = result1[0].data.evs\n",
    "\n",
    "# Muestra del resultado de fidelidad:\n",
    "print(\"Ejemplo 1: Fidelidad entre |+> y |0⟩ =\", fidelidad1)"
   ]
  },
  {
   "cell_type": "code",
   "execution_count": 45,
   "id": "692ab0e1",
   "metadata": {},
   "outputs": [
    {
     "name": "stdout",
     "output_type": "stream",
     "text": [
      "SparsePauliOp(['II', 'IZ', 'ZI', 'ZZ'],\n",
      "              coeffs=[0.25+0.j, 0.25+0.j, 0.25+0.j, 0.25+0.j])\n"
     ]
    }
   ],
   "source": [
    "# Ejemplo 2: Fidelidad perfecta tras aplicar U y luego U†\n",
    "qc2 = QuantumCircuit(2)\n",
    "qc2.h([0, 1])      # Definición del circuito con matriz U = H\n",
    "qc2.h([0, 1])      # Definición del circuito con matriz U† = U = H\n",
    "\n",
    "#Observable: Π₀ = (I + Z)⊗(I + Z)/4 para medir |00⟩\n",
    "observable2 = 0.25 * SparsePauliOp.from_list([\n",
    "   (\"II\", 1),\n",
    "    (\"IZ\", 1),\n",
    "    (\"ZI\", 1),\n",
    "    (\"ZZ\", 1)\n",
    "])\n",
    "\n",
    "print(observable2)"
   ]
  },
  {
   "cell_type": "code",
   "execution_count": null,
   "id": "3dc5b8a1",
   "metadata": {},
   "outputs": [
    {
     "name": "stdout",
     "output_type": "stream",
     "text": [
      "SparsePauliOp(['II', 'IZ', 'ZI', 'ZZ'],\n",
      "              coeffs=[0.25+0.j, 0.25+0.j, 0.25+0.j, 0.25+0.j])\n"
     ]
    }
   ],
   "source": [
    "from itertools import product\n",
    "n=2\n",
    "# Generar todas las combinaciones de Pauli 'I' y 'Z' para n qubits\n",
    "pauli_strings = [''.join(p) for p in product('IZ', repeat=n)]\n",
    "observable2 = SparsePauliOp.from_list([(p, 1.0) for p in pauli_strings]) * (1 / (2**n))\n",
    "print(observable2)"
   ]
  },
  {
   "cell_type": "code",
   "execution_count": null,
   "id": "f04f1086",
   "metadata": {},
   "outputs": [],
   "source": [
    "isa_circuit2 = pm.run(qc2)\n",
    "isa_observable2 = observable2.apply_layout(isa_circuit2.layout)"
   ]
  },
  {
   "cell_type": "code",
   "execution_count": null,
   "id": "74748cad",
   "metadata": {},
   "outputs": [
    {
     "name": "stdout",
     "output_type": "stream",
     "text": [
      "Ejemplo 2: Fidelidad tras U seguido de U† = 1.0\n"
     ]
    }
   ],
   "source": [
    "job2 = estimator.run([(isa_circuit2, isa_observable2)])\n",
    "result2 = job2.result()\n",
    "# print(f\" > Result class: {type(result1)}\")\n",
    "fidelidad2 = result2[0].data.evs\n",
    "\n",
    "# Muestra del resultado de fidelidad:\n",
    "print(\"Ejemplo 2: Fidelidad tras U seguido de U† =\", fidelidad2)"
   ]
  },
  {
   "cell_type": "code",
   "execution_count": null,
   "id": "1a6b04e2",
   "metadata": {},
   "outputs": [
    {
     "name": "stdout",
     "output_type": "stream",
     "text": [
      "Qiskit Version: 2.0.0\n",
      "Python Version: 3.13.2\n",
      "2025 ©\n"
     ]
    }
   ],
   "source": [
    "from qiskit import __version__ as qiskit_version\n",
    "from platform import python_version\n",
    "\n",
    "print('Qiskit Version:', qiskit_version)\n",
    "print('Python Version:', python_version())\n",
    "print('2025 ©')"
   ]
  }
 ],
 "metadata": {
  "kernelspec": {
   "display_name": "cuantica",
   "language": "python",
   "name": "python3"
  },
  "language_info": {
   "codemirror_mode": {
    "name": "ipython",
    "version": 3
   },
   "file_extension": ".py",
   "mimetype": "text/x-python",
   "name": "python",
   "nbconvert_exporter": "python",
   "pygments_lexer": "ipython3",
   "version": "3.13.2"
  }
 },
 "nbformat": 4,
 "nbformat_minor": 5
}
