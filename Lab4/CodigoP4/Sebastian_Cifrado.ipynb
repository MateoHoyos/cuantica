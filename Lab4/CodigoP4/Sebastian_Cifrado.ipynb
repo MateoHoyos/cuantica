{
 "cells": [
  {
   "cell_type": "code",
   "execution_count": 8,
   "id": "dcf0560b",
   "metadata": {},
   "outputs": [
    {
     "name": "stdout",
     "output_type": "stream",
     "text": [
      "✅ Clave leída desde 'clave.txt': [0, 1, 1, 0, 0, 1, 0, 1, 1, 0]... (27 bits)\n",
      "Texto cifrado: *×ù£\n",
      "ß¶à\u0016×«©\u0004©¡EÆ¶­\u0004Àº¥EÇ·¡Eß¼¤\f×º©\u0011Óõà\u0011Ó«¤\u0000Ó·¤\n",
      "\n"
     ]
    }
   ],
   "source": [
    "def bits_a_bytes(bits):\n",
    "    \"\"\"Convierte una lista de bits en una lista de bytes (enteros entre 0 y 255)\"\"\"\n",
    "    bytes_lista = []\n",
    "    for i in range(0, len(bits), 8):\n",
    "        byte_bits = bits[i:i+8]\n",
    "        # Si el último grupo tiene menos de 8 bits, rellenamos con ceros\n",
    "        if len(byte_bits) < 8:\n",
    "            byte_bits += [0] * (8 - len(byte_bits))\n",
    "        # Convertimos a entero\n",
    "        byte_valor = int(''.join(str(b) for b in byte_bits), 2)\n",
    "        bytes_lista.append(byte_valor)\n",
    "    return bytes_lista\n",
    "\n",
    "\n",
    "def cifrar_descifrar_con_bits(texto, clave_bits):\n",
    "    clave_bytes = bits_a_bytes(clave_bits)  # Convertimos los bits a bytes\n",
    "    resultado = ''\n",
    "    for i in range(len(texto)):\n",
    "        char_texto = ord(texto[i])                 # ASCII del caracter\n",
    "        char_clave = clave_bytes[i % len(clave_bytes)]  # Repetimos si es necesario\n",
    "        resultado += chr(char_texto ^ char_clave)  # XOR\n",
    "    return resultado\n",
    "\n",
    "def leer_clave(archivo='clave.txt'):\n",
    "    \"\"\"\n",
    "    Lee una clave desde un archivo de texto.\n",
    "    \n",
    "    Parámetros:\n",
    "        archivo (str): Nombre del archivo desde el cual se leerá la clave\n",
    "    \n",
    "    Retorna:\n",
    "        list: Lista de enteros (0 o 1)\n",
    "    \"\"\"\n",
    "    with open(archivo, 'r') as f:\n",
    "        contenido = f.read().strip()\n",
    "    \n",
    "    clave = [int(c) for c in contenido if c in ('0', '1')]\n",
    "    print(f\"✅ Clave leída desde '{archivo}': {clave[:10]}... ({len(clave)} bits)\")\n",
    "    return clave\n",
    "clave_binaria=leer_clave('clave.txt')\n",
    "mensaje=\"Oe como seria pa tomarce una mediecita, tardeando.\"\n",
    "texto_cifrado = cifrar_descifrar_con_bits(mensaje, clave_binaria)\n",
    "print(\"Texto cifrado:\", texto_cifrado)\n",
    "\n",
    "with open(\"texto_cifrado.txt\", \"w\", encoding=\"utf-8\") as f:\n",
    "    f.write(texto_cifrado)\n"
   ]
  }
 ],
 "metadata": {
  "kernelspec": {
   "display_name": "Python 3",
   "language": "python",
   "name": "python3"
  },
  "language_info": {
   "codemirror_mode": {
    "name": "ipython",
    "version": 3
   },
   "file_extension": ".py",
   "mimetype": "text/x-python",
   "name": "python",
   "nbconvert_exporter": "python",
   "pygments_lexer": "ipython3",
   "version": "3.13.2"
  }
 },
 "nbformat": 4,
 "nbformat_minor": 5
}
