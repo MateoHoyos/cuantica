{
 "cells": [
  {
   "cell_type": "markdown",
   "id": "fa04bd59",
   "metadata": {},
   "source": [
    "# Librerías"
   ]
  },
  {
   "cell_type": "code",
   "execution_count": 29,
   "id": "5da8349a",
   "metadata": {},
   "outputs": [],
   "source": [
    "import pennylane as qml\n",
    "from pennylane import numpy as np\n",
    "from pennylane.optimize import AdamOptimizer\n",
    "\n",
    "from sklearn.model_selection import train_test_split\n",
    "import pandas as pd\n",
    "\n",
    "from sklearn.metrics import accuracy_score\n",
    "from sklearn.metrics import f1_score\n",
    "from sklearn.metrics import precision_score\n",
    "from sklearn.metrics import recall_score\n",
    "\n",
    "import math"
   ]
  },
  {
   "cell_type": "markdown",
   "id": "0cd2a35d",
   "metadata": {},
   "source": [
    "# Preprocesamiento de datos de entrada"
   ]
  },
  {
   "cell_type": "code",
   "execution_count": 48,
   "id": "e5117008",
   "metadata": {},
   "outputs": [],
   "source": [
    "# preparaing data\n",
    "df_train = pd.read_csv('train.csv')\n",
    "\n",
    "df_train['Pclass'] = df_train['Pclass'].astype(str)\n",
    "\n",
    "df_train = pd.concat([df_train, pd.get_dummies(df_train[['Pclass', 'Sex', 'Embarked']])], axis=1)\n",
    "\n",
    "# I will fill missings with the median\n",
    "df_train['Age'] = df_train['Age'].fillna(df_train['Age'].median())\n",
    "\n",
    "df_train['is_child'] = df_train['Age'].map(lambda x: 1 if x < 12 else 0)\n",
    "cols_model = ['is_child', 'Pclass_1', 'Pclass_2', 'Sex_female']\n"
   ]
  },
  {
   "cell_type": "markdown",
   "id": "6010406b",
   "metadata": {},
   "source": [
    "# División de datos de entrenamiento y datos de prueba"
   ]
  },
  {
   "cell_type": "code",
   "execution_count": 49,
   "id": "cbb6344d",
   "metadata": {},
   "outputs": [],
   "source": [
    "X_train, X_test, y_train, y_test = train_test_split(df_train[cols_model], df_train['Survived'], test_size=0.10, random_state=42, stratify=df_train['Survived'])\n",
    "\n",
    "X_train = np.array(X_train.values, requires_grad=False)\n",
    "Y_train = np.array(y_train.values * 2 - np.ones(len(y_train)), requires_grad=False)"
   ]
  },
  {
   "cell_type": "markdown",
   "id": "adab5b0c",
   "metadata": {},
   "source": [
    "# Etapa del Feacture Map"
   ]
  },
  {
   "cell_type": "code",
   "execution_count": null,
   "id": "87cdc5e9",
   "metadata": {},
   "outputs": [],
   "source": [
    "num_qubits = 4\n",
    "num_layers = 4\n",
    "dev = qml.device(\"default.qubit\", wires=num_qubits)"
   ]
  },
  {
   "cell_type": "code",
   "execution_count": 33,
   "id": "302d921b",
   "metadata": {},
   "outputs": [],
   "source": [
    "# quantum circuit functions\n",
    "def statepreparation(x):\n",
    "    qml.BasisEmbedding(x, wires=range(0, num_qubits))\n"
   ]
  },
  {
   "cell_type": "markdown",
   "id": "ceb9d370",
   "metadata": {},
   "source": [
    "# Etapa del Ansatz"
   ]
  },
  {
   "cell_type": "code",
   "execution_count": 34,
   "id": "25bdc94c",
   "metadata": {},
   "outputs": [],
   "source": [
    "def layer(W):\n",
    "\n",
    "    qml.Rot(W[0, 0], W[0, 1], W[0, 2], wires=0)\n",
    "    qml.Rot(W[1, 0], W[1, 1], W[1, 2], wires=1)\n",
    "    qml.Rot(W[2, 0], W[2, 1], W[2, 2], wires=2)\n",
    "    qml.Rot(W[3, 0], W[3, 1], W[3, 2], wires=3)\n",
    "\n",
    "    qml.CNOT(wires=[0, 1])\n",
    "    qml.CNOT(wires=[1, 2])\n",
    "    qml.CNOT(wires=[2, 3])\n",
    "    qml.CNOT(wires=[3, 0])\n",
    "\n",
    "@qml.qnode(dev, interface=\"autograd\")\n",
    "def circuit(weights, x):\n",
    "    statepreparation(x)\n",
    "    qml.layer(layer, num_layers, weights)\n",
    "    return qml.expval(qml.PauliZ(0))"
   ]
  },
  {
   "cell_type": "code",
   "execution_count": 35,
   "id": "039f0b4f",
   "metadata": {},
   "outputs": [],
   "source": [
    "def variational_classifier(weights, bias, x):\n",
    "    return circuit(weights, x) + bias"
   ]
  },
  {
   "cell_type": "markdown",
   "id": "a5763e41",
   "metadata": {},
   "source": [
    "# Etapa de Funcion de pérdida"
   ]
  },
  {
   "cell_type": "code",
   "execution_count": 36,
   "id": "49d427ea",
   "metadata": {},
   "outputs": [],
   "source": [
    "def square_loss(labels, predictions):\n",
    "    loss = 0\n",
    "    for l, p in zip(labels, predictions):\n",
    "        loss = loss + (l - p) ** 2\n",
    "\n",
    "    loss = loss / len(labels)\n",
    "    return loss\n"
   ]
  },
  {
   "cell_type": "markdown",
   "id": "8aaed860",
   "metadata": {},
   "source": [
    "# Etapa de evaluación de la Función de Costo"
   ]
  },
  {
   "cell_type": "code",
   "execution_count": 37,
   "id": "1e1ab05c",
   "metadata": {},
   "outputs": [],
   "source": [
    "def cost(weights, bias, X, Y):\n",
    "    predictions = [variational_classifier(weights, bias, x) for x in X]\n",
    "    return square_loss(Y, predictions)"
   ]
  },
  {
   "cell_type": "markdown",
   "id": "5d9dbe26",
   "metadata": {},
   "source": [
    "# Etapa de Análisis de Precisión"
   ]
  },
  {
   "cell_type": "code",
   "execution_count": 38,
   "id": "05f37ac7",
   "metadata": {},
   "outputs": [],
   "source": [
    "def accuracy(labels, predictions):\n",
    "\n",
    "    loss = 0\n",
    "    for l, p in zip(labels, predictions):\n",
    "        if abs(l - p) < 1e-5:\n",
    "            loss = loss + 1\n",
    "    loss = loss / len(labels)\n",
    "\n",
    "    return loss"
   ]
  },
  {
   "cell_type": "markdown",
   "id": "20a337bf",
   "metadata": {},
   "source": [
    "# Pesos iniciales definidos"
   ]
  },
  {
   "cell_type": "code",
   "execution_count": 39,
   "id": "3f89f023",
   "metadata": {},
   "outputs": [],
   "source": [
    "# setting init params\n",
    "np.random.seed(0)\n",
    "weights_init = 0.01 * np.random.randn(num_layers, num_qubits, 3, requires_grad=True)\n",
    "bias_init = np.array(0.0, requires_grad=True)"
   ]
  },
  {
   "cell_type": "code",
   "execution_count": 40,
   "id": "f662374c",
   "metadata": {},
   "outputs": [
    {
     "name": "stdout",
     "output_type": "stream",
     "text": [
      "[[[ 0.01764052  0.00400157  0.00978738]\n",
      "  [ 0.02240893  0.01867558 -0.00977278]\n",
      "  [ 0.00950088 -0.00151357 -0.00103219]\n",
      "  [ 0.00410599  0.00144044  0.01454274]]\n",
      "\n",
      " [[ 0.00761038  0.00121675  0.00443863]\n",
      "  [ 0.00333674  0.01494079 -0.00205158]\n",
      "  [ 0.00313068 -0.00854096 -0.0255299 ]\n",
      "  [ 0.00653619  0.00864436 -0.00742165]]\n",
      "\n",
      " [[ 0.02269755 -0.01454366  0.00045759]\n",
      "  [-0.00187184  0.01532779  0.01469359]\n",
      "  [ 0.00154947  0.00378163 -0.00887786]\n",
      "  [-0.01980796 -0.00347912  0.00156349]]\n",
      "\n",
      " [[ 0.01230291  0.0120238  -0.00387327]\n",
      "  [-0.00302303 -0.01048553 -0.01420018]\n",
      "  [-0.0170627   0.01950775 -0.00509652]\n",
      "  [-0.00438074 -0.01252795  0.0077749 ]]]\n"
     ]
    }
   ],
   "source": [
    "print(weights_init)"
   ]
  },
  {
   "cell_type": "markdown",
   "id": "e525697c",
   "metadata": {},
   "source": [
    "# Entrenamiento"
   ]
  },
  {
   "cell_type": "code",
   "execution_count": 41,
   "id": "30ea1f13",
   "metadata": {},
   "outputs": [],
   "source": [
    "from pennylane.optimize import GradientDescentOptimizer\n",
    "opt = GradientDescentOptimizer(stepsize=0.2)\n",
    "num_it = 70\n",
    "batch_size = math.floor(len(X_train)/num_it)"
   ]
  },
  {
   "cell_type": "code",
   "execution_count": 42,
   "id": "dd88fd90",
   "metadata": {},
   "outputs": [
    {
     "name": "stdout",
     "output_type": "stream",
     "text": [
      "Iter:     1 | Cost: 2.4333636 | Accuracy: 0.3121099 \n",
      "Iter:     2 | Cost: 2.3754800 | Accuracy: 0.3121099 \n",
      "Iter:     3 | Cost: 2.3580234 | Accuracy: 0.3121099 \n",
      "Iter:     4 | Cost: 2.5711820 | Accuracy: 0.6167291 \n",
      "Iter:     5 | Cost: 2.6159762 | Accuracy: 0.6167291 \n",
      "Iter:     6 | Cost: 2.2987764 | Accuracy: 0.3121099 \n",
      "Iter:     7 | Cost: 2.2042082 | Accuracy: 0.3121099 \n",
      "Iter:     8 | Cost: 2.0648117 | Accuracy: 0.3121099 \n",
      "Iter:     9 | Cost: 1.8101951 | Accuracy: 0.6779026 \n",
      "Iter:    10 | Cost: 1.5649428 | Accuracy: 0.6167291 \n",
      "Iter:    11 | Cost: 1.4446011 | Accuracy: 0.6167291 \n",
      "Iter:    12 | Cost: 1.2217857 | Accuracy: 0.5842697 \n",
      "Iter:    13 | Cost: 1.0710824 | Accuracy: 0.6167291 \n",
      "Iter:    14 | Cost: 0.9992195 | Accuracy: 0.6816479 \n",
      "Iter:    15 | Cost: 0.9561990 | Accuracy: 0.6204744 \n",
      "Iter:    16 | Cost: 0.9432681 | Accuracy: 0.5855181 \n",
      "Iter:    17 | Cost: 0.8862277 | Accuracy: 0.5855181 \n",
      "Iter:    18 | Cost: 0.8181127 | Accuracy: 0.6891386 \n",
      "Iter:    19 | Cost: 0.8236089 | Accuracy: 0.7240949 \n",
      "Iter:    20 | Cost: 0.8044764 | Accuracy: 0.7240949 \n",
      "Iter:    21 | Cost: 0.8030885 | Accuracy: 0.7240949 \n",
      "Iter:    22 | Cost: 0.7841464 | Accuracy: 0.7203496 \n",
      "Iter:    23 | Cost: 0.7353621 | Accuracy: 0.7852684 \n",
      "Iter:    24 | Cost: 0.7323677 | Accuracy: 0.7927591 \n",
      "Iter:    25 | Cost: 0.7055336 | Accuracy: 0.7940075 \n",
      "Iter:    26 | Cost: 0.6862128 | Accuracy: 0.7840200 \n",
      "Iter:    27 | Cost: 0.6543569 | Accuracy: 0.7815231 \n",
      "Iter:    28 | Cost: 0.6392740 | Accuracy: 0.7927591 \n",
      "Iter:    29 | Cost: 0.6769992 | Accuracy: 0.7940075 \n",
      "Iter:    30 | Cost: 0.6239376 | Accuracy: 0.7890137 \n",
      "Iter:    31 | Cost: 0.6253669 | Accuracy: 0.7890137 \n",
      "Iter:    32 | Cost: 0.6176357 | Accuracy: 0.7890137 \n",
      "Iter:    33 | Cost: 0.6188504 | Accuracy: 0.7902622 \n",
      "Iter:    34 | Cost: 0.6096198 | Accuracy: 0.7902622 \n",
      "Iter:    35 | Cost: 0.6078484 | Accuracy: 0.7902622 \n",
      "Iter:    36 | Cost: 0.6157406 | Accuracy: 0.7902622 \n",
      "Iter:    37 | Cost: 0.5991157 | Accuracy: 0.7902622 \n",
      "Iter:    38 | Cost: 0.5986390 | Accuracy: 0.7902622 \n",
      "Iter:    39 | Cost: 0.6057273 | Accuracy: 0.7902622 \n",
      "Iter:    40 | Cost: 0.6217619 | Accuracy: 0.7902622 \n",
      "Iter:    41 | Cost: 0.6133166 | Accuracy: 0.7890137 \n",
      "Iter:    42 | Cost: 0.6047539 | Accuracy: 0.7902622 \n",
      "Iter:    43 | Cost: 0.6260557 | Accuracy: 0.7902622 \n",
      "Iter:    44 | Cost: 0.6118344 | Accuracy: 0.7902622 \n",
      "Iter:    45 | Cost: 0.6269976 | Accuracy: 0.7902622 \n",
      "Iter:    46 | Cost: 0.6083529 | Accuracy: 0.7902622 \n",
      "Iter:    47 | Cost: 0.6233088 | Accuracy: 0.7915106 \n",
      "Iter:    48 | Cost: 0.6057425 | Accuracy: 0.7915106 \n",
      "Iter:    49 | Cost: 0.6211879 | Accuracy: 0.7902622 \n",
      "Iter:    50 | Cost: 0.6083408 | Accuracy: 0.7902622 \n",
      "Iter:    51 | Cost: 0.5907478 | Accuracy: 0.7902622 \n",
      "Iter:    52 | Cost: 0.5926990 | Accuracy: 0.7902622 \n",
      "Iter:    53 | Cost: 0.6082868 | Accuracy: 0.7915106 \n",
      "Iter:    54 | Cost: 0.6281230 | Accuracy: 0.7915106 \n",
      "Iter:    55 | Cost: 0.6036471 | Accuracy: 0.7915106 \n",
      "Iter:    56 | Cost: 0.6065584 | Accuracy: 0.7902622 \n",
      "Iter:    57 | Cost: 0.6166982 | Accuracy: 0.7915106 \n",
      "Iter:    58 | Cost: 0.6361268 | Accuracy: 0.7915106 \n",
      "Iter:    59 | Cost: 0.6407205 | Accuracy: 0.7915106 \n",
      "Iter:    60 | Cost: 0.5982590 | Accuracy: 0.7902622 \n",
      "Iter:    61 | Cost: 0.5977966 | Accuracy: 0.7902622 \n",
      "Iter:    62 | Cost: 0.6014980 | Accuracy: 0.7902622 \n",
      "Iter:    63 | Cost: 0.5971671 | Accuracy: 0.7902622 \n",
      "Iter:    64 | Cost: 0.6079195 | Accuracy: 0.7915106 \n",
      "Iter:    65 | Cost: 0.6548019 | Accuracy: 0.7902622 \n",
      "Iter:    66 | Cost: 0.6838752 | Accuracy: 0.7902622 \n",
      "Iter:    67 | Cost: 0.6296218 | Accuracy: 0.7915106 \n",
      "Iter:    68 | Cost: 0.6393102 | Accuracy: 0.7902622 \n",
      "Iter:    69 | Cost: 0.7123136 | Accuracy: 0.7815231 \n",
      "Iter:    70 | Cost: 0.6288139 | Accuracy: 0.7902622 \n"
     ]
    }
   ],
   "source": [
    "weights = weights_init\n",
    "bias = bias_init\n",
    "for it in range(num_it):\n",
    "\n",
    "    # Update the weights by one optimizer step\n",
    "    batch_index = np.random.randint(0, len(X_train), (batch_size,))\n",
    "    X_batch = X_train[batch_index]\n",
    "    Y_batch = Y_train[batch_index]\n",
    "    weights, bias, _, _ = opt.step(cost, weights, bias, X_batch, Y_batch)\n",
    "\n",
    "    # Compute accuracy\n",
    "    predictions = [np.sign(variational_classifier(weights, bias, x)) for x in X_train]\n",
    "    acc = accuracy(Y_train, predictions)\n",
    "\n",
    "    print(\n",
    "        \"Iter: {:5d} | Cost: {:0.7f} | Accuracy: {:0.7f} \".format(\n",
    "            it + 1, cost(weights, bias, X_train, Y_train), acc\n",
    "        )\n",
    "    )"
   ]
  },
  {
   "cell_type": "markdown",
   "id": "5a9fba7f",
   "metadata": {},
   "source": [
    "# Pesos Finales entrenados"
   ]
  },
  {
   "cell_type": "code",
   "execution_count": 46,
   "id": "269ff119",
   "metadata": {},
   "outputs": [
    {
     "name": "stdout",
     "output_type": "stream",
     "text": [
      "[[[ 0.01764052 -0.37454776  0.00407995]\n",
      "  [ 0.02240893  1.03516881 -0.00288499]\n",
      "  [ 0.00950088  0.47145696 -0.00157036]\n",
      "  [ 0.00410599 -0.45985561  0.01427182]]\n",
      "\n",
      " [[ 0.00692708  0.39423713  0.00807251]\n",
      "  [ 0.01379999  0.7763355   0.01032205]\n",
      "  [ 0.00472335 -0.03807762 -0.02395986]\n",
      "  [ 0.00340854 -0.94034211 -0.00661974]]\n",
      "\n",
      " [[ 0.01093496 -0.2840666  -0.01459447]\n",
      "  [-0.00533594  1.02193497  0.01116749]\n",
      "  [-0.00381233  0.10323143 -0.01553119]\n",
      "  [-0.01038925  0.24815016  0.01171036]]\n",
      "\n",
      " [[ 0.01230291  0.0120238  -0.00387327]\n",
      "  [-0.00309629 -0.21442389 -0.01420018]\n",
      "  [-0.01510299  0.61667931 -0.00509652]\n",
      "  [-0.00969959 -1.11785856  0.0077749 ]]]\n"
     ]
    }
   ],
   "source": [
    "print(weights)"
   ]
  },
  {
   "cell_type": "code",
   "execution_count": 53,
   "id": "684871b8",
   "metadata": {},
   "outputs": [
    {
     "data": {
      "image/png": "[encoded data removed]",
      "text/plain": [
       "<Figure size 2400x500 with 1 Axes>"
      ]
     },
     "metadata": {},
     "output_type": "display_data"
    }
   ],
   "source": [
    "# Quantum circuit represented by Pennylane\n",
    "import matplotlib.pyplot as plt\n",
    "qml.drawer.use_style(\"pennylane\")\n",
    "\n",
    "fig, ax = qml.draw_mpl(circuit)(weights, X_train[0])\n",
    "ax.set_title(\"Circuito: 4 capas, 4 qubits\", fontsize=14)\n",
    "plt.show()\n",
    "\n"
   ]
  },
  {
   "cell_type": "markdown",
   "id": "94775e77",
   "metadata": {},
   "source": [
    "# Evaluación de desempeño del clasificador cuántico final."
   ]
  },
  {
   "cell_type": "code",
   "execution_count": 50,
   "id": "2406ce4d",
   "metadata": {},
   "outputs": [],
   "source": [
    "X_test = np.array(X_test.values, requires_grad=False)\n",
    "Y_test = np.array(y_test.values * 2 - np.ones(len(y_test)), requires_grad=False)\n",
    "\n",
    "predictions = [np.sign(variational_classifier(weights, bias, x)) for x in X_test]\n"
   ]
  },
  {
   "cell_type": "code",
   "execution_count": 54,
   "id": "cd0c0571",
   "metadata": {},
   "outputs": [
    {
     "data": {
      "text/plain": [
       "0.7025240384615383"
      ]
     },
     "execution_count": 54,
     "metadata": {},
     "output_type": "execute_result"
    }
   ],
   "source": [
    "accuracy_score(Y_test, predictions)\n",
    "precision_score(Y_test, predictions)\n",
    "recall_score(Y_test, predictions)\n",
    "f1_score(Y_test, predictions, average='macro')"
   ]
  },
  {
   "cell_type": "markdown",
   "id": "e481ba53",
   "metadata": {},
   "source": [
    "# Entrenamiento:   Accuracy 0.7903\n",
    "# Datos de prueba: Accuracy 0.7025"
   ]
  },
  {
   "cell_type": "markdown",
   "id": "6a221b0f",
   "metadata": {},
   "source": [
    "\\begin{array}{|c|c|c|} \\hline\n",
    "VQC & Accuracy-Train & Accuracy-Test\\\\ \\hline\n",
    "Original & 0.7840 & 0.7712  \\\\\n",
    "Modificado & 0.7903 & 0.7025 \\\\\n",
    "\\hline\n",
    "\\end{array}"
   ]
  },
  {
   "cell_type": "markdown",
   "id": "dde3436f",
   "metadata": {},
   "source": [
    "No fue suficiente con cambiar el optimizador y el Ansatz. Toco hacer varias pruebas porque la precision se quedo estancado en un valor: \n",
    "\n",
    "Iter:     1 | Cost: 2.7272563 | Accuracy: 0.3121099 \n",
    "\n",
    "Iter:     2 | Cost: 2.7104982 | Accuracy: 0.3121099 \n",
    "\n",
    "Iter:     3 | Cost: 2.6985930 | Accuracy: 0.3121099 \n",
    "\n",
    "Iter:     4 | Cost: 2.6554103 | Accuracy: 0.3121099\n",
    "\n",
    "Iter:     5 | Cost: 2.6306309 | Accuracy: 0.3121099\n",
    "\n",
    "Iter:     6 | Cost: 2.6289993 | Accuracy: 0.3121099 \n",
    "\n",
    "Iter:     7 | Cost: 2.6237349 | Accuracy: 0.3121099\n",
    "\n",
    "Iter:     8 | Cost: 2.6221877 | Accuracy: 0.3121099 \n",
    "\n",
    "Iter:     9 | Cost: 2.5994570 | Accuracy: 0.3121099\n",
    "\n",
    "Iter:    10 | Cost: 2.5882040 | Accuracy: 0.3121099 \n",
    "\n",
    "Iter:    11 | Cost: 2.5742026 | Accuracy: 0.3121099 \n",
    "\n",
    "Iter:    12 | Cost: 2.5736959 | Accuracy: 0.3121099 \n",
    "\n",
    "Muy posible del optimizador se quedo en un minimimo local o se ajustan lentamente.\n",
    "\n",
    "Entonces se aumento del numero de capas de 2 a 4: **num_layers = 4**\n",
    "\n",
    "Se probaron varios valores de pasos del optimizador: 00.1, 0.05, 0.125 pero al final el que mejor funciono es el de: \n",
    "\n",
    "**GradientDescentOptimizer(stepsize=0.2)**\n",
    "\n",
    "El Ansatz solo se cambio por el qml.layer(), es otra forma de hacer el mismo bucle de for W in weights: layer(W), por lo tanto da el mismo circuito cuantico y GradientDescentOptimizer es un poco más simple que el AdamOptimizer, este ultimo es más robusto. "
   ]
  },
  {
   "cell_type": "markdown",
   "id": "91e18ea8",
   "metadata": {},
   "source": [
    "Como se observa en la tabla final de resultados, vemos que el VQC modificado tuvo mejor precision en el entrenamiento pero menos en el test, eso quiere decir que tiene mejor generalizacion el original que este modificado, puede ser varias razones, como el optimizador es un poco más sencillo que el que tiene originalmente. Pero de todas formas ambos modelos estan entre 70 y 80 % de precision que es lo minimo que se le puede pedir a un modelo de machine learning en general. "
   ]
  }
 ],
 "metadata": {
  "kernelspec": {
   "display_name": "cuantica",
   "language": "python",
   "name": "python3"
  },
  "language_info": {
   "codemirror_mode": {
    "name": "ipython",
    "version": 3
   },
   "file_extension": ".py",
   "mimetype": "text/x-python",
   "name": "python",
   "nbconvert_exporter": "python",
   "pygments_lexer": "ipython3",
   "version": "3.13.2"
  }
 },
 "nbformat": 4,
 "nbformat_minor": 5
}
